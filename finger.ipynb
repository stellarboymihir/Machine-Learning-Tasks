{
 "cells": [
  {
   "attachments": {},
   "cell_type": "markdown",
   "metadata": {},
   "source": [
    "OpenCV: OpenCV (Open Source Computer Vision) is a computer vision library that contains various function to perform  operation on pictures or videos."
   ]
  },
  {
   "cell_type": "code",
   "execution_count": null,
   "metadata": {},
   "outputs": [],
   "source": [
    "import cv2\n",
    "\n",
    "img = cv2.imread('/home/mihir/Documents/Ml_Project/ROI/Bagvan_Mohzaid/Flat Two Thumbs_0.jpg',1)\n",
    "\n",
    "cv2.imshow('image', img)\n",
    "\n",
    "cv2.waitKey(0)\n",
    "\n",
    "cv2.destroyAllWindows()"
   ]
  },
  {
   "attachments": {},
   "cell_type": "markdown",
   "metadata": {},
   "source": [
    "Matplotlib: Matplotlib is an amazing visualization library in Python for 2D plots of arrays. Matplotlib is an multi-platform data visualization library built on NumPy arrays and designed to work with the border SciPy stack. Matplotlib comes with wide variety of plots. Plots helps to understand trends, patterns, and to make correlations.  "
   ]
  },
  {
   "cell_type": "code",
   "execution_count": null,
   "metadata": {},
   "outputs": [],
   "source": [
    "import matplotlib.image as mpimg\n",
    "import matplotlib.pyplot as plt\n",
    "\n",
    "img = mpimg.imread('/home/mihir/Documents/Ml_Project/ROI/Bagvan_Mohzaid/Flat Two Thumbs_0.jpg')\n",
    "\n",
    "plt.imshow(img)\n",
    "\n",
    "plt.savefig('/home/mihir/Documents/Ml_Project/Skeleton/f1.jpg')"
   ]
  },
  {
   "attachments": {},
   "cell_type": "markdown",
   "metadata": {},
   "source": [
    "PIL: Python Imaging Library which provides the python interpreter with Image editing capabilities. "
   ]
  },
  {
   "cell_type": "code",
   "execution_count": null,
   "metadata": {},
   "outputs": [],
   "source": [
    "from PIL import Image\n",
    "\n",
    "img = Image.open(r'/home/mihir/Documents/Ml_Project/ROI/Bagvan_Mohzaid/Flat Two Thumbs_0.jpg')\n",
    "\n",
    "img.show()\n",
    "img.save('/home/mihir/Documents/Ml_Project/Skeleton/fl1.jpg')\n",
    "\n",
    "print(img.format)\n",
    "\n",
    "print(img.mode)"
   ]
  },
  {
   "cell_type": "code",
   "execution_count": null,
   "metadata": {},
   "outputs": [],
   "source": [
    "from PIL import Image\n",
    "import PIL\n",
    "\n",
    "im1 = Image.open(r'/home/mihir/Documents/Ml_Project/ROI/Bagvan_Mohzaid/Flat Two Thumbs_0.jpg')\n",
    "\n",
    "im1 = im1.save(\"/home/mihir/Documents/Ml_Project/Skeleton/finger.png\")"
   ]
  },
  {
   "cell_type": "code",
   "execution_count": null,
   "metadata": {},
   "outputs": [],
   "source": [
    "import numpy as np\n",
    "from skimage import io, filters, morphology\n",
    "\n",
    "image = io.imread('/home/mihir/Documents/Ml_Project/ROI/Bagvan_Mohzaid/Flat Two Thumbs_0.jpg', as_gray= True)\n",
    "\n",
    "image = filters.gaussian(image, sigma=1)\n",
    "\n",
    "image = image > 0.5\n",
    "\n",
    "skeleton = morphology.skeletonize(image)\n",
    "\n",
    "io.imsave(\"/home/mihir/Documents/Ml_Project/Skeleton/finger.jpg\", skeleton.astype(np.uint8) * 255)"
   ]
  },
  {
   "cell_type": "code",
   "execution_count": 7,
   "metadata": {},
   "outputs": [],
   "source": [
    "import cv2\n",
    "\n",
    "# Read input image\n",
    "img = cv2.imread('/home/mihir/Documents/Ml_Project/ROI/Bagvan Zidan/Flat Two Thumbs_0.jpg', cv2.IMREAD_GRAYSCALE)\n",
    "\n",
    "# Threshold the image to create a binary image\n",
    "_, img_binary = cv2.threshold(img, 127, 255, cv2.THRESH_BINARY)\n",
    "\n",
    "# Apply morphological opening operation to remove noise\n",
    "kernel = cv2.getStructuringElement(cv2.MORPH_CROSS, (3, 3))\n",
    "img_open = cv2.morphologyEx(img_binary, cv2.MORPH_OPEN, kernel)\n",
    "\n",
    "# Apply morphological skeletonization operation\n",
    "size = np.size(img_open)\n",
    "skel = np.zeros(img_open.shape, np.uint8)\n",
    "element = cv2.getStructuringElement(cv2.MORPH_CROSS, (3,3))\n",
    "done = False\n",
    "\n",
    "while not done:\n",
    "    eroded = cv2.erode(img_open, element)\n",
    "    temp = cv2.dilate(eroded, element)\n",
    "    temp = cv2.subtract(img_open, temp)\n",
    "    skel = cv2.bitwise_or(skel, temp)\n",
    "    img_open = eroded.copy()\n",
    "\n",
    "    zeros = size - cv2.countNonZero(img_open)\n",
    "    if zeros == size:\n",
    "        done = True\n",
    "\n",
    "# Display the output image\n",
    "cv2.imshow(\"Skeleton\", skel)\n",
    "cv2.waitKey(0)\n",
    "cv2.destroyAllWindows()\n"
   ]
  }
 ],
 "metadata": {
  "kernelspec": {
   "display_name": "base",
   "language": "python",
   "name": "python3"
  },
  "language_info": {
   "codemirror_mode": {
    "name": "ipython",
    "version": 3
   },
   "file_extension": ".py",
   "mimetype": "text/x-python",
   "name": "python",
   "nbconvert_exporter": "python",
   "pygments_lexer": "ipython3",
   "version": "3.7.16"
  },
  "orig_nbformat": 4,
  "vscode": {
   "interpreter": {
    "hash": "64f07d9f89cf3a57ac38a9b2e4818435b28a449c53c059eda1c1671d69e3965e"
   }
  }
 },
 "nbformat": 4,
 "nbformat_minor": 2
}
